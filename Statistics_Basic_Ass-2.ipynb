{
 "cells": [
  {
   "cell_type": "markdown",
   "id": "e7e06a31",
   "metadata": {},
   "source": [
    "# question 1"
   ]
  },
  {
   "cell_type": "code",
   "execution_count": 1,
   "id": "81f1caee",
   "metadata": {},
   "outputs": [],
   "source": [
    "# three measure of central tendency is :-\n",
    "# 1. Mean:-The mean, often referred to as the average, is calculated by adding up all the values in a dataset and then dividing by the number of values. It provides a measure of the \"typical\" value in a dataset and is sensitive to extreme outliers.\n",
    "# 2. Median:- The median is the middle value in a dataset when the values are arranged in ascending or descending order. If there is an even number of values, the median is the average of the two middle values. The median is less affected by extreme outliers compared to the mean and is a measure of the central value\n",
    "# 3. Mode :- The mode is the value that appears most frequently in a dataset. A dataset can have one mode (unimodal) or more than one mode (multimodal). The mode is especially useful for categorical or discrete data but can also be applied to continuous data."
   ]
  },
  {
   "cell_type": "markdown",
   "id": "8813e55c",
   "metadata": {},
   "source": [
    "# question 2"
   ]
  },
  {
   "cell_type": "code",
   "execution_count": 2,
   "id": "05753d7a",
   "metadata": {},
   "outputs": [],
   "source": [
    "#Mean:\n",
    "\n",
    "# 1. Calculation: The mean, often referred to as the average, is calculated by summing up all the values in a dataset and then dividing by the number of values.\n",
    "# 2. Sensitivity to Outliers: The mean is sensitive to extreme outliers or skewed data because it takes into account the values of all data points.\n",
    "# 3. Use: It is used to find the arithmetic center of a dataset and provides a measure of the \"typical\" value when the data is reasonably symmetric and not heavily influenced by outliers."
   ]
  },
  {
   "cell_type": "code",
   "execution_count": 3,
   "id": "b570563b",
   "metadata": {},
   "outputs": [],
   "source": [
    "#Median:\n",
    "\n",
    "# 1. Calculation: The median is the middle value in a dataset when the values are arranged in ascending or descending order. If there is an even number of values, the median is the average of the two middle values.\n",
    "# 2. Sensitivity to Outliers: The median is less sensitive to extreme outliers compared to the mean because it is not influenced by the actual values of outliers, only their relative position in the ordered data.\n",
    "# 3. Use: It is used when there is concern about the impact of outliers or when the data is not normally distributed. The median represents the central value that divides the dataset into two equal halves."
   ]
  },
  {
   "cell_type": "code",
   "execution_count": 4,
   "id": "b3a7a48c",
   "metadata": {},
   "outputs": [],
   "source": [
    "#Mode:\n",
    "\n",
    "# 1. Calculation: The mode is the value that appears most frequently in a dataset. A dataset can have one mode (unimodal) or more than one mode (multimodal).\n",
    "# 2. Sensitivity to Outliers: The mode is not influenced by the values of outliers; it only considers the frequency of values.\n",
    "# 3. Use: It is primarily used for categorical or discrete data, where you're interested in finding the most common category or value. However, it can also be applied to continuous data, but it may not always exist or be meaningful in such cases."
   ]
  },
  {
   "cell_type": "markdown",
   "id": "47dea6b6",
   "metadata": {},
   "source": [
    "# question 3"
   ]
  },
  {
   "cell_type": "code",
   "execution_count": 6,
   "id": "a121fea2",
   "metadata": {},
   "outputs": [],
   "source": [
    " #1. mean:-(178+177+176+177+178.2+178+175+179+180+175+178.9+176.2+177+172.9+178+176.5)/16\n",
    "# mean value is = 177.44"
   ]
  },
  {
   "cell_type": "code",
   "execution_count": 7,
   "id": "e13bcd8f",
   "metadata": {},
   "outputs": [],
   "source": [
    "# 2. median :- 172.5, 175, 175, 176, 176, 176.2, 177, 177, 177, 178, 178, 178, 178, 178.2, 178.9, 180\n",
    "#Since there are 16 values (an even number), the median is the average of the two middle values, which are the 8th and 9th values in the sorted list:\n",
    "\n",
    "#Median = (177 + 177) / 2\n",
    "#Median = 177"
   ]
  },
  {
   "cell_type": "code",
   "execution_count": 8,
   "id": "be2397fe",
   "metadata": {},
   "outputs": [],
   "source": [
    "# 3. Mode:-\n",
    "#The mode is the value(s) that appear most frequently in the dataset.\n",
    "\n",
    "#In this dataset, the value \"178\" appears most frequently (5 times), making it the mode.\n",
    "\n",
    "#So, for the given height data:\n",
    "\n",
    "#Mean ≈ 177.44 (rounded to two decimal places)\n",
    "#Median = 177\n",
    "#Mode = 178"
   ]
  },
  {
   "cell_type": "markdown",
   "id": "eec834e3",
   "metadata": {},
   "source": [
    "# question 4"
   ]
  },
  {
   "cell_type": "code",
   "execution_count": 9,
   "id": "662de653",
   "metadata": {},
   "outputs": [],
   "source": [
    "#Measures of dispersion, such as range, variance, and standard deviation, are used to describe the spread or variability within a dataset. They provide valuable information about how data points are dispersed or scattered around the central tendency (mean, median, or mode)."
   ]
  },
  {
   "cell_type": "code",
   "execution_count": 10,
   "id": "ac2c8a42",
   "metadata": {},
   "outputs": [],
   "source": [
    "# 1. Range:-The range is the simplest measure of dispersion and is calculated as the difference between the maximum and minimum values in a dataset.\n",
    "# Range = Maximum Value - Minimum Value\n",
    "# Example:-[60, 62, 64, 65, 70]\n",
    "# Range = 70 - 60 = 10"
   ]
  },
  {
   "cell_type": "code",
   "execution_count": 11,
   "id": "c2354dd3",
   "metadata": {},
   "outputs": [],
   "source": [
    "# 2. Variance:-Variance measures how individual data points deviate from the mean. It calculates the average of the squared differences between each data point and the mean.\n",
    "# example:-\n",
    "# [60, 62, 64, 65, 70]\n",
    "#First, calculate the mean:\n",
    "#Mean = (60 + 62 + 64 + 65 + 70) / 5 = 252 / 5 = 50.4 inches\n",
    "\n",
    "#Then, calculate the variance:\n",
    "#Variance = [(60 - 50.4)^2 + (62 - 50.4)^2 + (64 - 50.4)^2 + (65 - 50.4)^2 + (70 - 50.4)^2] / 4\n",
    "#Variance ≈ 43.2 square "
   ]
  },
  {
   "cell_type": "code",
   "execution_count": 12,
   "id": "0ba93e56",
   "metadata": {},
   "outputs": [],
   "source": [
    "# 3. std:-The standard deviation is a commonly used measure of dispersion that represents the average amount of variation or spread in a dataset.\n",
    "# It is calculated as the square root of the variance.\n",
    "# example :- Standard Deviation = √43.2 ≈ 6.57 "
   ]
  },
  {
   "cell_type": "markdown",
   "id": "a0c864f9",
   "metadata": {},
   "source": [
    "# question 5"
   ]
  },
  {
   "cell_type": "code",
   "execution_count": 13,
   "id": "9b3b40ab",
   "metadata": {},
   "outputs": [],
   "source": [
    "# Venn Diagram:-A Venn diagram is a visual representation used to illustrate the relationships and commonalities between sets or groups of objects or elements. It consists of one or more circles or ovals, each representing a set, and the overlapping regions show the intersections or shared elements between those sets\n",
    "# Key components of a Venn diagram:\n",
    "# Circles or Ovals: Each circle or oval in a Venn diagram represents a set or a category. These sets can represent any grouping of objects, ideas, or characteristics.\n",
    "\n",
    "#  Overlapping Regions: The overlapping parts of the circles represent the elements that belong to more than one set, showing the intersections between sets. The size of these overlapping regions can vary, indicating the relative size of the intersections.\n",
    "\n",
    "# Non-overlapping Regions: The non-overlapping portions of the circles represent the elements unique to each set, which do not belong to any other set."
   ]
  },
  {
   "cell_type": "markdown",
   "id": "42c5deaf",
   "metadata": {},
   "source": [
    "# question 6"
   ]
  },
  {
   "cell_type": "code",
   "execution_count": 14,
   "id": "b17a6d3d",
   "metadata": {},
   "outputs": [],
   "source": [
    "# Set A: {2, 3, 4, 5, 6, 7}\n",
    "# Set B: {0, 2, 6, 8, 10}\n",
    "# 1.  A ∩ B = {2, 6}\n",
    "\n",
    "#So, the intersection of sets A and B is {2, 6}.\n",
    "\n",
    "# 2. Union (A ∪ B):\n",
    "# A ∪ B = {0, 2, 3, 4, 5, 6, 7, 8, 10}\n",
    "\n",
    "# So, the union of sets A and B is {0, 2, 3, 4, 5, 6, 7, 8, 10}."
   ]
  },
  {
   "cell_type": "markdown",
   "id": "a50b35ed",
   "metadata": {},
   "source": [
    "# question 7"
   ]
  },
  {
   "cell_type": "code",
   "execution_count": 15,
   "id": "094473c1",
   "metadata": {},
   "outputs": [],
   "source": [
    "# Skewness is a statistical measure that describes the asymmetry or lack of symmetry in the distribution of data. In other words, it indicates whether the data is concentrated more on one side of the central point (mean, median, or mode) than the other. Skewness is an essential concept in statistics and data analysis, as it helps us understand the shape of a data distribution.\n",
    "# 1.Positive Skewness (Right Skew):\n",
    "\n",
    "#In a positively skewed distribution, the tail on the right-hand side (the upper tail) is longer or fatter than the left-hand side (the lower tail).\n",
    "#The majority of the data points are concentrated on the left side of the distribution, while a few larger values extend the right tail.\n",
    "#The mean is typically greater than the median in positively skewed data.\n",
    "#Example: Income distribution in a country where most people have low to moderate incomes, but a few individuals have extremely high incomes, causing the distribution to be positively skewed.\n",
    "\n",
    "# 2. Negative Skewness (Left Skew):\n",
    "\n",
    "#In a negatively skewed distribution, the tail on the left-hand side (the lower tail) is longer or fatter than the right-hand side (the upper tail).\n",
    "#Most data points are concentrated on the right side of the distribution, while a few smaller values extend the left tail.\n",
    "#The mean is typically less than the median in negatively skewed data.\n",
    "#Example: Test scores in a challenging exam where most students score well, but a few students perform very poorly, causing the distribution to be negatively skewed.\n",
    "\n",
    "# 3.Zero Skewness (Symmetrical):\n",
    "\n",
    "# In a symmetric distribution, both tails are of equal length and mirror each other.\n",
    "# The data is evenly distributed around the central point (mean, median, or mode).\n",
    "# The mean, median, and mode are all equal in a perfectly symmetrical distribution.\n",
    "# Example: The heights of a random sample of people from a population, where there is no significant skew in either direction.\n",
    "\n"
   ]
  },
  {
   "cell_type": "markdown",
   "id": "43c419da",
   "metadata": {},
   "source": [
    "# question 8"
   ]
  },
  {
   "cell_type": "code",
   "execution_count": 17,
   "id": "899d445e",
   "metadata": {},
   "outputs": [],
   "source": [
    "# If a dataset is right-skewed (positively skewed), the position of the median with respect to the mean will typically be as follows:\n",
    "\n",
    "# The median will be less than the mean.\n",
    "# In a right-skewed distribution:\n",
    "\n",
    "# The right tail of the distribution is longer or contains more extreme values.\n",
    "# The majority of the data points are concentrated on the left side of the distribution, with relatively few larger values on the right side.\n",
    "\n",
    "#Right-skewed data: Mean > Median\n",
    "#Left-skewed data (negatively skewed): Median > Mean\n",
    "#Symmetrical data: Mean = Median"
   ]
  },
  {
   "cell_type": "markdown",
   "id": "065fc778",
   "metadata": {},
   "source": [
    "# question 9"
   ]
  },
  {
   "cell_type": "code",
   "execution_count": 18,
   "id": "32cc09fa",
   "metadata": {},
   "outputs": [],
   "source": [
    "# 1.Covariance:\n",
    "\n",
    "# Covariance measures the degree to which two variables change together. In other words, it quantifies how changes in one variable are associated with changes in another variable.\n",
    "# The formula for covariance between two variables X and Y is:\n",
    "# Cov(X, Y) = Σ[(X_i - X̄) * (Y_i - Ȳ)] / (n - 1)\n",
    "# where X_i and Y_i are individual data points, X̄ is the mean of X, Ȳ is the mean of Y, and n is the number of data points.\n",
    "# Covariance can take any value, positive or negative, and its magnitude is not standardized, meaning it depends on the units of the variables."
   ]
  },
  {
   "cell_type": "code",
   "execution_count": 19,
   "id": "876b8fbb",
   "metadata": {},
   "outputs": [],
   "source": [
    "# 2.Correlation:\n",
    "\n",
    "# Correlation measures the strength and direction of the linear relationship between two variables. It provides a standardized measure of the relationship, making it easier to compare across different datasets and variables.\n",
    "# The most commonly used correlation coefficient is the Pearson correlation coefficient (often denoted as r), which ranges from -1 to 1.\n",
    "# The formula for the Pearson correlation coefficient is:\n",
    "# r = Σ[(X_i - X̄) * (Y_i - Ȳ)] / [(n - 1) * σ_X * σ_Y]\n",
    "# where X_i and Y_i are individual data points, X̄ is the mean of X, Ȳ is the mean of Y, σ_X is the standard deviation of X, σ_Y is the standard deviation of Y, and n is the number of data points."
   ]
  },
  {
   "cell_type": "markdown",
   "id": "aa676abc",
   "metadata": {},
   "source": [
    "# question 10\n"
   ]
  },
  {
   "cell_type": "code",
   "execution_count": 20,
   "id": "87154b43",
   "metadata": {},
   "outputs": [],
   "source": [
    "# formula :- Sample Mean (x̄) = Σx / n\n",
    "# example calculation for a dataset:\n",
    "\n",
    "# Consider the following dataset representing the ages of a group of individuals:\n",
    "# [25, 30, 35, 40, 45]\n",
    "\n",
    "# To find the sample mean (x̄), you would sum up all the individual ages and then divide by the number of data points (in this case, 5):\n",
    "\n",
    "# x̄ = (25 + 30 + 35 + 40 + 45) / 5\n",
    "# x̄ = (175) / 5\n",
    "# x̄ = 35\n",
    "\n",
    "# So, the sample mean of the dataset is 35."
   ]
  },
  {
   "cell_type": "markdown",
   "id": "641aa25c",
   "metadata": {},
   "source": [
    "# question 11"
   ]
  },
  {
   "cell_type": "code",
   "execution_count": 21,
   "id": "13d6890a",
   "metadata": {},
   "outputs": [],
   "source": [
    "# In a normal distribution, there is a specific relationship between its measures of central tendency, namely the mean, median, and mode:\n",
    "\n",
    "# Mean (μ): In a perfectly symmetrical normal distribution, the mean (average) is equal to the median and the mode. This is one of the defining characteristics of a normal distribution. The mean, median, and mode all have the same value and are located at the center of the distribution.\n",
    "\n",
    "# Median: The median in a normal distribution is also equal to the mean. As mentioned earlier, this is a property of symmetric distributions like the normal distribution.\n",
    "\n",
    "# Mode: In a normal distribution, the mode is also equal to the mean and median. Every value in the distribution occurs with the same frequency, resulting in a single, tall, and symmetrical peak. This peak corresponds to the mode, which is the most frequent value and is located at the same point as the mean and median."
   ]
  },
  {
   "cell_type": "markdown",
   "id": "b4237a5e",
   "metadata": {},
   "source": [
    "# question 12"
   ]
  },
  {
   "cell_type": "code",
   "execution_count": 22,
   "id": "3a5649b9",
   "metadata": {},
   "outputs": [],
   "source": [
    "# Covariance and correlation are both measures used in statistics to describe the relationship between two variables, but they differ in several important ways:\n",
    "\n",
    "# 1. Nature of Measurement:\n",
    "\n",
    "# Covariance measures the degree to which two variables change together. It quantifies whether an increase in one variable is associated with an increase or decrease in another. The formula for covariance involves the raw values of the variables.\n",
    "\n",
    "# Correlation, on the other hand, measures the strength and direction of the linear relationship between two variables. It provides a standardized measure of this relationship, making it easier to compare across different datasets and variables. Correlation coefficients range from -1 to 1, with 1 indicating a perfect positive linear relationship, -1 indicating a perfect negative linear relationship, and 0 indicating no linear relationship.\n",
    "\n",
    "# 2. Units of Measurement:\n",
    "\n",
    "# Covariance is not standardized and is influenced by the units of the variables. Therefore, the numerical value of covariance can vary widely depending on the units of measurement. This makes it challenging to compare covariances across different datasets or variables with different units.\n",
    "\n",
    "# Correlation is a standardized measure, and it is unitless. It provides a consistent scale for comparing the strength and direction of the linear relationship between variables, regardless of the units in which the variables are measured.\n",
    "\n",
    "# 3. Interpretation:\n",
    "\n",
    "# Covariance is challenging to interpret on its own. A positive covariance indicates that as one variable increases, the other tends to increase as well, and vice versa for negative covariance. However, the magnitude of covariance is not standardized, so it is difficult to assess the strength of the relationship or compare it to other datasets.\n",
    "\n",
    "# Correlation is easier to interpret. A correlation coefficient (such as the Pearson correlation coefficient) ranges from -1 to 1, providing a clear indication of the strength and direction of the linear relationship. A value of 1 indicates a perfect positive linear relationship, -1 indicates a perfect negative linear relationship, and 0 indicates no linear relationship.\n",
    "\n",
    "# 4. Range of Values:\n",
    "\n",
    "# Covariance can take any real value, which means it can be positive, negative, or zero.\n",
    "\n",
    "# Correlation coefficients are bounded between -1 and 1, making them more interpretable and standardized."
   ]
  },
  {
   "cell_type": "markdown",
   "id": "23f559e5",
   "metadata": {},
   "source": [
    "# question13"
   ]
  },
  {
   "cell_type": "code",
   "execution_count": null,
   "id": "c8e5233d",
   "metadata": {},
   "outputs": [],
   "source": [
    "# Outliers can have a significant impact on measures of central tendency and dispersion in a dataset. Here's how outliers affect these measures, along with an example:\n",
    "\n",
    "# Measures of Central Tendency (Mean, Median, Mode):\n",
    "\n",
    "# Mean (Average): Outliers can disproportionately influence the mean. If you have one or more extreme values in your dataset, they can pull the mean towards them. This effect can lead to an inaccurate representation of the \"typical\" or central value of the dataset. The mean is sensitive to outliers.\n",
    "\n",
    "# Example: Consider a dataset of household incomes in a small town. Most households have incomes between $30,000 and $50,000 per year, but there is one household with an income of $1,000,000. The mean income for the entire town will be heavily influenced by this outlier, making it appear much higher than the income of the majority of households.\n",
    "\n",
    "# Median: The median is less affected by outliers. It is determined by the middle value in the ordered dataset, and extreme values do not shift it significantly. If you have outliers, the median may provide a more robust measure of central tendency.\n",
    "\n",
    "# Example: Using the same income dataset as above, the median income would still fall within the $30,000 to $50,000 range, reflecting the income of the majority of households, despite the presence of the outlier.\n",
    "\n",
    "# Mode: The mode represents the most frequent value in the dataset and is generally not influenced by outliers unless the outlier itself is the most frequent value.\n",
    "\n",
    "# Example: If the income dataset contains two modes (e.g., $35,000 and $40,000) due to two common income levels in the town, the presence of the outlier will not change the modes unless it happens to be the same as one of the modes.\n",
    "\n",
    "# Measures of Dispersion (Range, Variance, Standard Deviation):\n",
    "\n",
    "# Range: Outliers can significantly affect the range, especially if they are extreme values. The range is the difference between the maximum and minimum values in the dataset, so an outlier that is much larger or smaller than the rest of the data will widen the range.\n",
    "\n",
    "# Example: In a dataset of test scores where most scores range from 60 to 80, the presence of an outlier with a score of 5 or 95 will greatly increase the range.\n",
    "\n",
    "# Variance and Standard Deviation: Outliers can also have a substantial impact on the variance and standard deviation. These measures quantify the spread or dispersion of data points around the mean. Outliers, especially if they are far from the mean, increase the variability and result in larger variance and standard deviation values.\n",
    "\n",
    "# Example: In a dataset of employee salaries, the inclusion of a few extremely high salaries can lead to a much higher standard deviation, indicating greater salary variability compared to when the outliers are removed."
   ]
  }
 ],
 "metadata": {
  "kernelspec": {
   "display_name": "Python 3 (ipykernel)",
   "language": "python",
   "name": "python3"
  },
  "language_info": {
   "codemirror_mode": {
    "name": "ipython",
    "version": 3
   },
   "file_extension": ".py",
   "mimetype": "text/x-python",
   "name": "python",
   "nbconvert_exporter": "python",
   "pygments_lexer": "ipython3",
   "version": "3.11.5"
  }
 },
 "nbformat": 4,
 "nbformat_minor": 5
}
